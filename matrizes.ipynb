{
  "nbformat": 4,
  "nbformat_minor": 0,
  "metadata": {
    "colab": {
      "provenance": [],
      "authorship_tag": "ABX9TyPJijdN5mo1pw0Gygev2XWJ",
      "include_colab_link": true
    },
    "kernelspec": {
      "name": "python3",
      "display_name": "Python 3"
    },
    "language_info": {
      "name": "python"
    }
  },
  "cells": [
    {
      "cell_type": "markdown",
      "metadata": {
        "id": "view-in-github",
        "colab_type": "text"
      },
      "source": [
        "<a href=\"https://colab.research.google.com/github/clovesrocha/MiniCursoIP/blob/master/matrizes.ipynb\" target=\"_parent\"><img src=\"https://colab.research.google.com/assets/colab-badge.svg\" alt=\"Open In Colab\"/></a>"
      ]
    },
    {
      "cell_type": "code",
      "source": [
        "import numpy as np"
      ],
      "metadata": {
        "id": "-dvhxwzxmbcM"
      },
      "execution_count": 1,
      "outputs": []
    },
    {
      "cell_type": "code",
      "execution_count": 2,
      "metadata": {
        "colab": {
          "base_uri": "https://localhost:8080/"
        },
        "id": "lT0_GJuDmX_r",
        "outputId": "9fac29a8-7311-4c40-c560-2a8dd0e49c4f"
      },
      "outputs": [
        {
          "output_type": "stream",
          "name": "stdout",
          "text": [
            "1\n",
            "2\n",
            "3\n",
            "4\n",
            "5\n",
            "6\n",
            "7\n",
            "8\n",
            "9\n",
            "[[1 2 3]\n",
            " [4 5 6]\n",
            " [7 8 9]]\n"
          ]
        }
      ],
      "source": [
        "# Criando uma matriz\n",
        "matriz = np.array([[1, 2, 3], [4, 5, 6], [7, 8, 9]])\n",
        "\n",
        "# Acessando elementos da matriz\n",
        "elemento = matriz[0, 1]  # Obtém o elemento na linha 0 e coluna 1 (valor 2)\n",
        "\n",
        "# Obtendo o número de linhas e colunas\n",
        "num_linhas = matriz.shape[0]  # Retorna o número de linhas (3)\n",
        "num_colunas = matriz.shape[1]  # Retorna o número de colunas (3)\n",
        "\n",
        "# Iterando sobre elementos da matriz\n",
        "for linha in matriz:\n",
        "    for elemento in linha:\n",
        "        print(elemento)\n",
        "\n",
        "# Operações matriciais\n",
        "matriz1 = np.array([[1, 2], [3, 4]])\n",
        "matriz2 = np.array([[5, 6], [7, 8]])\n",
        "\n",
        "soma = matriz1 + matriz2  # Soma de matrizes\n",
        "produto = np.dot(matriz1, matriz2)  # Produto de matrizes\n",
        "\n",
        "# Transposição de matriz\n",
        "matriz_transposta = matriz.T\n",
        "\n",
        "# Indexação booleana\n",
        "matriz = np.array([[1, 2, 3], [4, 5, 6], [7, 8, 9]])\n",
        "condicao = matriz > 5  # Cria uma matriz de booleanos baseada na condição\n",
        "elementos_maiores_que_5 = matriz[condicao]  # Obtém elementos maiores que 5\n",
        "\n",
        "# Outras operações úteis incluem: média, mínimo, máximo, etc.\n",
        "media = np.mean(matriz)\n",
        "valor_minimo = np.min(matriz)\n",
        "valor_maximo = np.max(matriz)\n",
        "\n",
        "print(matriz)\n"
      ]
    }
  ]
}