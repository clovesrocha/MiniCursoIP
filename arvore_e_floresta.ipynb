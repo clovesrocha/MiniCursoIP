{
  "nbformat": 4,
  "nbformat_minor": 0,
  "metadata": {
    "colab": {
      "provenance": [],
      "authorship_tag": "ABX9TyNDVdNZFtrAHkMX3bJ81sMN",
      "include_colab_link": true
    },
    "kernelspec": {
      "name": "python3",
      "display_name": "Python 3"
    },
    "language_info": {
      "name": "python"
    }
  },
  "cells": [
    {
      "cell_type": "markdown",
      "metadata": {
        "id": "view-in-github",
        "colab_type": "text"
      },
      "source": [
        "<a href=\"https://colab.research.google.com/github/clovesrocha/MiniCursoIP/blob/master/arvore_e_floresta.ipynb\" target=\"_parent\"><img src=\"https://colab.research.google.com/assets/colab-badge.svg\" alt=\"Open In Colab\"/></a>"
      ]
    },
    {
      "cell_type": "code",
      "execution_count": null,
      "metadata": {
        "id": "rpl7zFiYskWY"
      },
      "outputs": [],
      "source": [
        "\n",
        "```python by Prof. Cloves Rocha - https://github.com/clovesrocha\n",
        "class Node:\n",
        "    \"\"\"\n",
        "    A Node class to represent the individual elements of the tree.\n",
        "    \"\"\"\n",
        "    def __init__(self, key):\n",
        "        self.key = key       # The value or 'key' of the node\n",
        "        self.children = []   # A list of children nodes\n",
        "\n",
        "class Tree:\n",
        "    \"\"\"\n",
        "    The Tree class with a root node.\n",
        "    \"\"\"\n",
        "    def __init__(self, root_key):\n",
        "        self.root = Node(root_key)  # The root node of the tree\n",
        "\n",
        "    def add_child(self, parent_key, child_key):\n",
        "        \"\"\"\n",
        "        A method to add a child node to the tree under the parent node with\n",
        "        the given parent_key.\n",
        "        \"\"\"\n",
        "        # Recursive function to find the parent node and add the child\n",
        "        def _add_child_recursive(node, parent_key, child_key):\n",
        "            if node.key == parent_key:\n",
        "                # Parent found, add new child\n",
        "                node.children.append(Node(child_key))\n",
        "                return True\n",
        "            for child in node.children:\n",
        "                # Search in the children\n",
        "                if _add_child_recursive(child, parent_key, child_key):\n",
        "                    return True\n",
        "            return False\n",
        "\n",
        "        # Start the search from the root node\n",
        "        _add_child_recursive(self.root, parent_key, child_key)\n",
        "\n",
        "class Forest:\n",
        "    \"\"\"\n",
        "    The Forest class containing multiple trees.\n",
        "    \"\"\"\n",
        "    def __init__(self):\n",
        "        self.trees = []  # A list to store multiple trees\n",
        "\n",
        "    def add_tree(self, tree_root_key):\n",
        "        \"\"\"\n",
        "        A method to add a new tree to the forest with the specified root key.\n",
        "        \"\"\"\n",
        "        new_tree = Tree(tree_root_key)\n",
        "        self.trees.append(new_tree)\n",
        "\n",
        "    def add_child(self, tree_root_key, parent_key, child_key):\n",
        "        \"\"\"\n",
        "        A method to add a child node to a tree identified by the tree_root_key.\n",
        "        \"\"\"\n",
        "        # Find the tree with the given root and add a child\n",
        "        for tree in self.trees:\n",
        "            if tree.root.key == tree_root_key:\n",
        "                tree.add_child(parent_key, child_key)\n",
        "                return\n",
        "\n",
        "# Example usage of Tree and Forest classes:\n",
        "if __name__ == '__main__':\n",
        "    # Create a Tree\n",
        "    tree = Tree('root')\n",
        "    tree.add_child('root', 'child1')\n",
        "    tree.add_child('root', 'child2')\n",
        "    tree.add_child('child1', 'child1_1')\n",
        "    tree.add_child('child1', 'child1_2')\n",
        "\n",
        "    # Create a Forest and add trees to it\n",
        "    forest = Forest()\n",
        "    forest.add_tree('tree1_root')\n",
        "    forest.add_tree('tree2_root')\n",
        "    forest.add_child('tree1_root', 'tree1_root', 'tree1_child1')\n",
        "    forest.add_child('tree2_root', 'tree2_root', 'tree2_child1')\n",
        "```\n",
        "Mantenha a calma e tome café...\n",
        "\n",
        "A classe `Node` representa nós individuais em uma árvore, cada um com uma chave e uma lista de filhos.\n",
        "A classe `Tree` representa uma única árvore com um método para adicionar nós filhos.\n",
        "A classe `Forest` representa uma coleção de árvores e permite adicionar novas árvores e nós dentro dessas árvores.\n",
        "O exemplo no final mostra como usar essas classes para criar árvores e uma floresta.\n",
        "Um abraço by Prof. Cloves Rocha - https://github.com/clovesrocha"
      ]
    }
  ]
}