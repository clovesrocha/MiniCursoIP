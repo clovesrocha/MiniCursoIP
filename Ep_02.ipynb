{
  "nbformat": 4,
  "nbformat_minor": 0,
  "metadata": {
    "colab": {
      "name": "Ep. #02.ipynb",
      "provenance": [],
      "authorship_tag": "ABX9TyPikuT6WBUVdkcnk6YX2xTn",
      "include_colab_link": true
    },
    "kernelspec": {
      "name": "python3",
      "display_name": "Python 3"
    }
  },
  "cells": [
    {
      "cell_type": "markdown",
      "metadata": {
        "id": "view-in-github",
        "colab_type": "text"
      },
      "source": [
        "<a href=\"https://colab.research.google.com/github/clovesrocha/minicursoip/blob/master/Ep_02.ipynb\" target=\"_parent\"><img src=\"https://colab.research.google.com/assets/colab-badge.svg\" alt=\"Open In Colab\"/></a>"
      ]
    },
    {
      "cell_type": "code",
      "metadata": {
        "id": "Ug7UrReB_psV",
        "colab_type": "code",
        "colab": {
          "base_uri": "https://localhost:8080/",
          "height": 34
        },
        "outputId": "5dcfc266-ed30-471d-c4b4-5f0c9375bea3"
      },
      "source": [
        "# Aula - Ep. #02 - Mini Curso de #IP\n", 
        "# Estudante: Henry Thierry\n",
        "# Instituição: Uninassau\n",
        "# Tipos Primitivos de Dados em Python\n",
        "\n",
        "# Tipo Inteiro ok\n",
        "# Tipo Reais ok\n",
        "# Tipo Booleanos ok\n",
        "# Tipo Caracteres (string) ok\n",
        "\n",
        "#c = \"rocha\"\n",
        "#print (type(c))\n",
        "#c = 5\n",
        "#r = 5\n",
        "#print(c == r)"
      ],
      "execution_count": 11,
      "outputs": [
        {
          "output_type": "stream",
          "text": [
            "True\n"
          ],
          "name": "stdout"
        }
      ]
    }
  ]
}
