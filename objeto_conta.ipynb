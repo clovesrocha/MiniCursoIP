{
  "nbformat": 4,
  "nbformat_minor": 0,
  "metadata": {
    "colab": {
      "provenance": [],
      "authorship_tag": "ABX9TyMVwhs0m331/2fSAfB8wK3p",
      "include_colab_link": true
    },
    "kernelspec": {
      "name": "python3",
      "display_name": "Python 3"
    },
    "language_info": {
      "name": "python"
    }
  },
  "cells": [
    {
      "cell_type": "markdown",
      "metadata": {
        "id": "view-in-github",
        "colab_type": "text"
      },
      "source": [
        "<a href=\"https://colab.research.google.com/github/clovesrocha/MiniCursoIP/blob/master/objeto_conta.ipynb\" target=\"_parent\"><img src=\"https://colab.research.google.com/assets/colab-badge.svg\" alt=\"Open In Colab\"/></a>"
      ]
    },
    {
      "cell_type": "code",
      "execution_count": null,
      "metadata": {
        "id": "vSEYvQb_Heoa"
      },
      "outputs": [],
      "source": [
        "#Prof. Cloves Rocha\n",
        "class Conta:\n",
        "  numero = \"00000-0\"\n",
        "  saldo = 0.0\n",
        "def __init__(self, numero, saldoInicial):\n",
        "   self.numero = numero\n",
        "   self.saldo = saldoInicial\n",
        "\n",
        "conta = Conta(\"12345-1\", 0)\n",
        "print( conta.numero)\n",
        "print( conta.saldo)"
      ]
    }
  ]
}