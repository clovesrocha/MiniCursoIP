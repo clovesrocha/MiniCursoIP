{
  "nbformat": 4,
  "nbformat_minor": 0,
  "metadata": {
    "colab": {
      "provenance": [],
      "authorship_tag": "ABX9TyNcIkf9Tht8jXPgP6jvU1SN",
      "include_colab_link": true
    },
    "kernelspec": {
      "name": "python3",
      "display_name": "Python 3"
    },
    "language_info": {
      "name": "python"
    }
  },
  "cells": [
    {
      "cell_type": "markdown",
      "metadata": {
        "id": "view-in-github",
        "colab_type": "text"
      },
      "source": [
        "<a href=\"https://colab.research.google.com/github/clovesrocha/MiniCursoIP/blob/master/nocoesOO.ipynb\" target=\"_parent\"><img src=\"https://colab.research.google.com/assets/colab-badge.svg\" alt=\"Open In Colab\"/></a>"
      ]
    },
    {
      "cell_type": "code",
      "execution_count": 16,
      "metadata": {
        "colab": {
          "base_uri": "https://localhost:8080/"
        },
        "id": "dfa3W-L44-5M",
        "outputId": "a8a8f008-8360-415f-ab71-0808640615ac"
      },
      "outputs": [
        {
          "output_type": "execute_result",
          "data": {
            "text/plain": [
              "10"
            ]
          },
          "metadata": {},
          "execution_count": 16
        }
      ],
      "source": [
        "# ETE Cícero Dias\n",
        "# Prof. Cloves\n",
        "# Python Noções OO\n",
        "# Estudante: ...\n",
        "\n",
        "class Carro:\n",
        "  def __init__(self):\n",
        "    self._nrodas = 4\n",
        "  def set_nrodas(self, n):\n",
        "    self._nrodas = n\n",
        "gol = Carro()\n",
        "gol._nrodas\n",
        "\n",
        "gol.set_nrodas(10)\n",
        "gol._nrodas\n",
        "\n",
        "# imprimi o objeto...\n",
        "#c = Carro()\n",
        "#print(c)"
      ]
    }
  ]
}