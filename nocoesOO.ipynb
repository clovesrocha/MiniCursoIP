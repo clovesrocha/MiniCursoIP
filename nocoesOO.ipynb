{
  "nbformat": 4,
  "nbformat_minor": 0,
  "metadata": {
    "colab": {
      "provenance": [],
      "authorship_tag": "ABX9TyOcv3XnNIUmTIZLhm1QF2GW",
      "include_colab_link": true
    },
    "kernelspec": {
      "name": "python3",
      "display_name": "Python 3"
    },
    "language_info": {
      "name": "python"
    }
  },
  "cells": [
    {
      "cell_type": "markdown",
      "metadata": {
        "id": "view-in-github",
        "colab_type": "text"
      },
      "source": [
        "<a href=\"https://colab.research.google.com/github/clovesrocha/MiniCursoIP/blob/master/nocoesOO.ipynb\" target=\"_parent\"><img src=\"https://colab.research.google.com/assets/colab-badge.svg\" alt=\"Open In Colab\"/></a>"
      ]
    },
    {
      "cell_type": "code",
      "execution_count": 1,
      "metadata": {
        "colab": {
          "base_uri": "https://localhost:8080/"
        },
        "id": "dfa3W-L44-5M",
        "outputId": "fa4aeeba-e2a2-4975-f70a-bb7faf1d0417"
      },
      "outputs": [
        {
          "output_type": "stream",
          "name": "stdout",
          "text": [
            "xx-123\n",
            "Estou dirigindo a 60 km/h\n"
          ]
        }
      ],
      "source": [
        "# DOCENTE: Prof. MSc. Cloves\n",
        "# AULA X: Python Noções OO\n",
        "# Estudante: ...\n",
        "\n",
        "class Automovel:\n",
        "    def __init__(self, placa='xx-123'):\n",
        "        self.placa = placa\n",
        "\n",
        "    def get_placa(self):\n",
        "        return self.placa\n",
        "\n",
        "    def dirigir(self, velocidade):\n",
        "        print(f'Estou dirigindo a {velocidade} km/h')\n",
        "\n",
        "# Exemplo de uso da classe Automovel\n",
        "carro = Automovel()\n",
        "print(carro.get_placa())\n",
        "carro.dirigir(60)\n"
      ]
    },
    {
      "cell_type": "code",
      "source": [
        "class Pessoa:\n",
        "    def __init__(self, nome, idade, endereco, genero):\n",
        "        self.nome = nome\n",
        "        self.idade = idade\n",
        "        self.endereco = endereco\n",
        "        self.genero = genero\n",
        "\n",
        "    def apresentar(self):\n",
        "        return f\"Olá, meu nome é {self.nome}, tenho {self.idade} anos, moro em {self.endereco} e sou do gênero {self.genero}.\"\n",
        "\n",
        "# Criando uma instância da classe Pessoa\n",
        "pessoa1 = Pessoa('Cloves', 38, 'Rua Principal, 123', 'Masculino')\n",
        "\n",
        "# Acessando os atributos e método da instância\n",
        "print(pessoa1.nome)  # Saída: Cloves\n",
        "print(pessoa1.idade)  # Saída: 30\n",
        "print(pessoa1.apresentar())  # Saída: Olá, meu nome é Cloves, tenho 38 anos, moro em Rua Principal, 123 e sou do gênero Masculino.\n"
      ],
      "metadata": {
        "colab": {
          "base_uri": "https://localhost:8080/"
        },
        "id": "tLTZLNFLRBsu",
        "outputId": "08ea0894-ee7a-46a8-e855-e04ac33526a0"
      },
      "execution_count": 2,
      "outputs": [
        {
          "output_type": "stream",
          "name": "stdout",
          "text": [
            "Cloves\n",
            "30\n",
            "Olá, meu nome é Cloves, tenho 30 anos, moro em Rua Principal, 123 e sou do gênero Masculino.\n"
          ]
        }
      ]
    }
  ]
}