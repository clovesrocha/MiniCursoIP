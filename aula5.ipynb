{
  "nbformat": 4,
  "nbformat_minor": 0,
  "metadata": {
    "colab": {
      "provenance": [],
      "authorship_tag": "ABX9TyNruYf7/K1KV4MXXK1iG6Ae",
      "include_colab_link": true
    },
    "kernelspec": {
      "name": "python3",
      "display_name": "Python 3"
    },
    "language_info": {
      "name": "python"
    }
  },
  "cells": [
    {
      "cell_type": "markdown",
      "metadata": {
        "id": "view-in-github",
        "colab_type": "text"
      },
      "source": [
        "<a href=\"https://colab.research.google.com/github/clovesrocha/MiniCursoIP/blob/master/aula5.ipynb\" target=\"_parent\"><img src=\"https://colab.research.google.com/assets/colab-badge.svg\" alt=\"Open In Colab\"/></a>"
      ]
    },
    {
      "cell_type": "code",
      "execution_count": 6,
      "metadata": {
        "colab": {
          "base_uri": "https://localhost:8080/"
        },
        "id": "THvSPKikZK-Q",
        "outputId": "1ccd47d6-efed-405c-9a86-8f41a0225b9c"
      },
      "outputs": [
        {
          "output_type": "stream",
          "name": "stdout",
          "text": [
            "<class 'bool'>\n"
          ]
        }
      ],
      "source": [
        "# UNINASSAU\n",
        "# DOCENTE: CLOVES\n",
        "# ESTUDANTE: ...\n",
        "# TIPOS PRIMITIVOS DE DADOS - PYTHON\n",
        "\n",
        "#print('CLOVES')\n",
        "c = True\n",
        "print(type(c))\n"
      ]
    },
    {
      "cell_type": "code",
      "source": [
        "# 3. Operadores Aritméticos - Python\n",
        "\n",
        "#10 + 9\n",
        "#10 - 9\n",
        "#10 * 9\n",
        "#10 / 3\n",
        "#10 // 3\n",
        "#3 ** 5\n",
        "#10 % 3"
      ],
      "metadata": {
        "colab": {
          "base_uri": "https://localhost:8080/"
        },
        "id": "yOmZPTW_bl9p",
        "outputId": "7619037b-1922-405b-b08a-6d552794fbd9"
      },
      "execution_count": 13,
      "outputs": [
        {
          "output_type": "execute_result",
          "data": {
            "text/plain": [
              "1"
            ]
          },
          "metadata": {},
          "execution_count": 13
        }
      ]
    },
    {
      "cell_type": "code",
      "source": [
        "c = 10 % 3\n",
        "print(c)"
      ],
      "metadata": {
        "colab": {
          "base_uri": "https://localhost:8080/"
        },
        "id": "s-9zU4z8dAMf",
        "outputId": "929511fe-e4ab-497d-a3ad-d12f7bed318a"
      },
      "execution_count": 19,
      "outputs": [
        {
          "output_type": "stream",
          "name": "stdout",
          "text": [
            "1\n"
          ]
        }
      ]
    },
    {
      "cell_type": "code",
      "source": [
        "# 4. Operadores Relacionais Simples.\n",
        "#7 > 15\n",
        "#10 < 11\n",
        "#a = 11\n",
        "#b = 10\n",
        "#a = b\n",
        "#print(a)"
      ],
      "metadata": {
        "colab": {
          "base_uri": "https://localhost:8080/"
        },
        "id": "0B4QDW_TdXpA",
        "outputId": "1968cd8d-e0f3-4c0f-a60b-23017a1f1387"
      },
      "execution_count": 26,
      "outputs": [
        {
          "output_type": "stream",
          "name": "stdout",
          "text": [
            "10\n"
          ]
        }
      ]
    },
    {
      "cell_type": "code",
      "source": [
        "# 5. Operadores Relacionais Compostos.\n",
        "\n",
        "#10 >= 10\n",
        "#10 <= 9\n",
        "#9.9 != 10"
      ],
      "metadata": {
        "colab": {
          "base_uri": "https://localhost:8080/"
        },
        "id": "qLPjptM6eVQw",
        "outputId": "f25fe895-434a-4cb0-876d-5577550fb43d"
      },
      "execution_count": 32,
      "outputs": [
        {
          "output_type": "execute_result",
          "data": {
            "text/plain": [
              "True"
            ]
          },
          "metadata": {},
          "execution_count": 32
        }
      ]
    },
    {
      "cell_type": "code",
      "source": [
        "matricula = input('Qual é a sua matrícula? ')\n",
        "print(f'Sua matrícula é {matricula}. ')"
      ],
      "metadata": {
        "colab": {
          "base_uri": "https://localhost:8080/"
        },
        "id": "nlqkeVI6e-br",
        "outputId": "903837b1-ba0a-46f9-df05-8d1f26e00a04"
      },
      "execution_count": 39,
      "outputs": [
        {
          "output_type": "stream",
          "name": "stdout",
          "text": [
            "Qual é a sua matrícula? 123\n",
            "Sua matrícula é 123. \n"
          ]
        }
      ]
    }
  ]
}