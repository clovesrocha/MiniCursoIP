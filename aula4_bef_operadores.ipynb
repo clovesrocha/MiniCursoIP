{
  "nbformat": 4,
  "nbformat_minor": 0,
  "metadata": {
    "colab": {
      "provenance": [],
      "authorship_tag": "ABX9TyMbWHGbvfsPOeZgBLslBAh0",
      "include_colab_link": true
    },
    "kernelspec": {
      "name": "python3",
      "display_name": "Python 3"
    },
    "language_info": {
      "name": "python"
    }
  },
  "cells": [
    {
      "cell_type": "markdown",
      "metadata": {
        "id": "view-in-github",
        "colab_type": "text"
      },
      "source": [
        "<a href=\"https://colab.research.google.com/github/clovesrocha/MiniCursoIP/blob/master/aula4_bef_operadores.ipynb\" target=\"_parent\"><img src=\"https://colab.research.google.com/assets/colab-badge.svg\" alt=\"Open In Colab\"/></a>"
      ]
    },
    {
      "cell_type": "code",
      "execution_count": 40,
      "metadata": {
        "id": "47Xbj8EtNpzD",
        "colab": {
          "base_uri": "https://localhost:8080/"
        },
        "outputId": "35b04897-4415-4b1c-9d27-6f757100aa99"
      },
      "outputs": [
        {
          "output_type": "stream",
          "name": "stdout",
          "text": [
            "<class 'str'>\n"
          ]
        }
      ],
      "source": [
        "# UNINASSAU\n",
        "# DOCENTE: CLOVES ROCHA\n",
        "# ESTUDANTE: ...\n",
        "# DISCIPLINA: BEF\n",
        "# TURMAS: MA E MB\n",
        "# Tipos Primitivos de Dados\n",
        "\n",
        "#print('Cloves')\n",
        "#c = 'Cloves'\n",
        "#print(type(c))"
      ]
    },
    {
      "cell_type": "code",
      "source": [
        "# Operadores Aritméticos - Python\n",
        "# Adição\n",
        "10 + 9\n",
        "# Subtração\n",
        "# 19 - 9\n",
        "# Multiplicação\n",
        "#30 * 10\n",
        "# Divisão\n",
        "# 10 / 3\n",
        "# Divisão inteira\n",
        "# 10 // 3\n",
        "# Exponenciação\n",
        "#2 ** 3\n",
        "# Resto da divisão\n",
        "#10 % 3\n",
        "#x = 2 ** 3\n",
        "#print(x)\n",
        "\n",
        "x = 10 % 3\n",
        "print(x)\n"
      ],
      "metadata": {
        "colab": {
          "base_uri": "https://localhost:8080/"
        },
        "id": "KWF6OdoGPA6d",
        "outputId": "2afb31a8-48c1-41ec-ed71-2d6a1c15bb06"
      },
      "execution_count": 50,
      "outputs": [
        {
          "output_type": "stream",
          "name": "stdout",
          "text": [
            "1\n"
          ]
        }
      ]
    },
    {
      "cell_type": "code",
      "source": [
        "# Operadores Relacionais Simples\n",
        "\n",
        "#9 > 10\n",
        "#9 < 10\n",
        "#10 == 10\n",
        "#a = 10\n",
        "#b = 10\n",
        "#a == b"
      ],
      "metadata": {
        "colab": {
          "base_uri": "https://localhost:8080/"
        },
        "id": "LRcpKnZKQs6V",
        "outputId": "68ec2f24-64c8-4b0b-8d39-38ec03d1d8a7"
      },
      "execution_count": 59,
      "outputs": [
        {
          "output_type": "execute_result",
          "data": {
            "text/plain": [
              "True"
            ]
          },
          "metadata": {},
          "execution_count": 59
        }
      ]
    },
    {
      "cell_type": "code",
      "source": [
        "# Operadores Relacionais Compostos\n",
        "# Maior ou igual a\n",
        "#9.1 >= 9\n",
        "# Menor ou igual a\n",
        "#9 <= 10\n",
        "# Diferente de\n",
        "#10 != 9\n",
        "# Função print()\n",
        "#print('Olá mundo!, 2, 2.5, True, False')\n",
        "#num = 2\n",
        "#print(f'O número {num} é par.')"
      ],
      "metadata": {
        "colab": {
          "base_uri": "https://localhost:8080/"
        },
        "id": "rjroevJ2SBmr",
        "outputId": "985d0c68-afad-4771-89b0-a01df1976c7e"
      },
      "execution_count": 67,
      "outputs": [
        {
          "output_type": "stream",
          "name": "stdout",
          "text": [
            "O número 2 é par.\n"
          ]
        }
      ]
    },
    {
      "cell_type": "code",
      "source": [
        "# Função input()\n",
        "nome = input('Digite seu nome completo: ')\n",
        "end  = input('Digite seu endereço: ')\n",
        "print(f'Seu nome é: {nome}.')\n",
        "print(f'Seu enderenço é: {end}.')\n"
      ],
      "metadata": {
        "colab": {
          "base_uri": "https://localhost:8080/"
        },
        "id": "yHs9VrUSUBzd",
        "outputId": "5be40d40-9b67-4dfe-a9c7-e52b1a7d343b"
      },
      "execution_count": 68,
      "outputs": [
        {
          "output_type": "stream",
          "name": "stdout",
          "text": [
            "Digite seu nome completo: Cloves Rocha\n",
            "Digite seu endereço: Av Brasil\n",
            "Seu nome é: Cloves Rocha.\n",
            "Seu enderenço é: Av Brasil.\n"
          ]
        }
      ]
    },
    {
      "cell_type": "code",
      "source": [
        "# Estrutura de Condições\n",
        "\n",
        "num = int(input('Digite um número: '))\n",
        "if num % 2 == 0:\n",
        "  print(f'O número {num} é par.')\n",
        "else:\n",
        "  print(f'O número {num} é ímpar.')"
      ],
      "metadata": {
        "colab": {
          "base_uri": "https://localhost:8080/"
        },
        "id": "8Id0A3csWLP1",
        "outputId": "f6b07a02-9f17-4d8f-c9ef-ed0daae6b23b"
      },
      "execution_count": 69,
      "outputs": [
        {
          "output_type": "stream",
          "name": "stdout",
          "text": [
            "Digite um número: 3\n",
            "O número 3 é ímpar.\n"
          ]
        }
      ]
    },
    {
      "cell_type": "code",
      "source": [],
      "metadata": {
        "id": "M7CYBTlHWHP3"
      },
      "execution_count": null,
      "outputs": []
    },
    {
      "cell_type": "code",
      "source": [],
      "metadata": {
        "id": "jUA0tAJnUHTT"
      },
      "execution_count": null,
      "outputs": []
    }
  ]
}