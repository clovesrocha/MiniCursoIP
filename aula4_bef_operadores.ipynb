{
  "nbformat": 4,
  "nbformat_minor": 0,
  "metadata": {
    "colab": {
      "provenance": [],
      "authorship_tag": "ABX9TyN17OPfNaZrRJgLth15k5oY",
      "include_colab_link": true
    },
    "kernelspec": {
      "name": "python3",
      "display_name": "Python 3"
    },
    "language_info": {
      "name": "python"
    }
  },
  "cells": [
    {
      "cell_type": "markdown",
      "metadata": {
        "id": "view-in-github",
        "colab_type": "text"
      },
      "source": [
        "<a href=\"https://colab.research.google.com/github/clovesrocha/MiniCursoIP/blob/master/aula4_bef_operadores.ipynb\" target=\"_parent\"><img src=\"https://colab.research.google.com/assets/colab-badge.svg\" alt=\"Open In Colab\"/></a>"
      ]
    },
    {
      "cell_type": "code",
      "execution_count": null,
      "metadata": {
        "id": "47Xbj8EtNpzD"
      },
      "outputs": [],
      "source": [
        "# UNINASSAU\n",
        "# DOCENTE: CLOVES ROCHA\n",
        "# ESTUDANTE: ...\n",
        "# DISCIPLINA: BACK-END\n",
        "# Tipos Primitivos de Dados\n",
        "\n",
        "#print('Cloves')\n",
        "#c = 'Cloves'\n",
        "#print(type(c))"
      ]
    },
    {
      "cell_type": "code",
      "source": [
        "# Operadores Aritméticos - Python\n",
        "# Adição\n",
        "# 10 + 9\n",
        "# Subtração\n",
        "# 19 - 9\n",
        "# Multiplicação\n",
        "#30 * 10\n",
        "# Divisão\n",
        "# 10 / 3\n",
        "# Divisão inteira\n",
        "# 10 // 3\n",
        "# Exponenciação\n",
        "# 2 ** 3\n",
        "# Resto da divição\n",
        "# 10 % 3\n",
        "\n",
        "''' x = 2 ** 3\n",
        "print(x) '''\n",
        "\n",
        "# x = 10 % 3\n",
        "# print(x)\n"
      ],
      "metadata": {
        "colab": {
          "base_uri": "https://localhost:8080/"
        },
        "id": "KWF6OdoGPA6d",
        "outputId": "372c3e6e-90cc-4a07-f6dd-25b10ec50307"
      },
      "execution_count": 11,
      "outputs": [
        {
          "output_type": "stream",
          "name": "stdout",
          "text": [
            "1\n"
          ]
        }
      ]
    },
    {
      "cell_type": "code",
      "source": [
        "# Operadores Relacionais Simples\n",
        "\n",
        "# 9 > 7\n",
        "# 9 < 10\n",
        "# 10 == 9.9\n",
        "\n",
        "'''a = 10\n",
        "b = 9.9\n",
        "a == b '''"
      ],
      "metadata": {
        "colab": {
          "base_uri": "https://localhost:8080/"
        },
        "id": "LRcpKnZKQs6V",
        "outputId": "49a99054-2117-4a5c-831b-2d5bef95cdb0"
      },
      "execution_count": 20,
      "outputs": [
        {
          "output_type": "execute_result",
          "data": {
            "text/plain": [
              "False"
            ]
          },
          "metadata": {},
          "execution_count": 20
        }
      ]
    },
    {
      "cell_type": "code",
      "source": [
        "# Operadores Relacionais Compostos\n",
        "# Maior ou igual a\n",
        "# 9.1 >= 9\n",
        "# Menor ou igual a\n",
        "# 9 <= 10\n",
        "# Diferente de\n",
        "# 10 != 9\n",
        "# Função print()\n",
        "# print('Olá mundo!, 2, 2.5, True, False')\n",
        "#num = 2\n",
        "#print(f'O número {num} é par.')"
      ],
      "metadata": {
        "colab": {
          "base_uri": "https://localhost:8080/"
        },
        "id": "rjroevJ2SBmr",
        "outputId": "0d49fb35-67a3-4f5e-9efc-633c05ce073f"
      },
      "execution_count": 31,
      "outputs": [
        {
          "output_type": "stream",
          "name": "stdout",
          "text": [
            "O número 2 é par.\n"
          ]
        }
      ]
    },
    {
      "cell_type": "code",
      "source": [
        "# Função input()\n",
        "'''nome = input('Digite seu nome: ')\n",
        "end  = input('Digite seu endereço: ')\n",
        "print(f'Seu nome é: {nome}.')\n",
        "print(f'Seu enderenço é: {end}.') '''\n"
      ],
      "metadata": {
        "colab": {
          "base_uri": "https://localhost:8080/"
        },
        "id": "yHs9VrUSUBzd",
        "outputId": "309bb01f-b9a1-4d31-d3a8-c18e41c802e9"
      },
      "execution_count": 35,
      "outputs": [
        {
          "output_type": "stream",
          "name": "stdout",
          "text": [
            "Digite seu nome: Cloves \n",
            "Digite seu endereço: Av Brasil\n",
            "Seu nome é: Cloves .\n",
            "Seu enderenço é: Av Brasil.\n"
          ]
        }
      ]
    },
    {
      "cell_type": "code",
      "source": [
        "# Estrutura de Condições\n",
        "\n",
        "numero = int(input('Digite um número: '))\n",
        "if numero % 2 == 0:\n",
        "  print(f'O número {numero} é par.')\n",
        "else:\n",
        "  print(f'O número {numero} é ímpar.')"
      ],
      "metadata": {
        "colab": {
          "base_uri": "https://localhost:8080/"
        },
        "id": "8Id0A3csWLP1",
        "outputId": "da137192-1976-4535-8599-5642ef8d8edf"
      },
      "execution_count": 37,
      "outputs": [
        {
          "output_type": "stream",
          "name": "stdout",
          "text": [
            "Digite um número: 7\n",
            "O número 7 é ímpar.\n"
          ]
        }
      ]
    },
    {
      "cell_type": "code",
      "source": [],
      "metadata": {
        "id": "M7CYBTlHWHP3"
      },
      "execution_count": null,
      "outputs": []
    },
    {
      "cell_type": "code",
      "source": [],
      "metadata": {
        "id": "jUA0tAJnUHTT"
      },
      "execution_count": null,
      "outputs": []
    }
  ]
}