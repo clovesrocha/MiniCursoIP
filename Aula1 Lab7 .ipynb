{
  "nbformat": 4,
  "nbformat_minor": 0,
  "metadata": {
    "colab": {
      "provenance": [],
      "name": "TESTE.ipynb",
      "include_colab_link": true
    },
    "kernelspec": {
      "name": "python3",
      "display_name": "Python 3"
    },
    "language_info": {
      "name": "python"
    }
  },
  "cells": [
    {
      "cell_type": "markdown",
      "metadata": {
        "id": "view-in-github",
        "colab_type": "text"
      },
      "source": [
        "<a href=\"https://colab.research.google.com/github/clovesrocha/MiniCursoIP/blob/master/Aula1%20Lab7%20.ipynb\" target=\"_parent\"><img src=\"https://colab.research.google.com/assets/colab-badge.svg\" alt=\"Open In Colab\"/></a>"
      ]
    },
    {
      "cell_type": "code",
      "execution_count": 1,
      "metadata": {
        "id": "7OteSXxEVHII",
        "outputId": "4c6e244f-facb-401f-a694-6f4368b9cfa6",
        "colab": {
          "base_uri": "https://localhost:8080/"
        }
      },
      "outputs": [
        {
          "output_type": "stream",
          "name": "stdout",
          "text": [
            "<class 'str'>\n",
            "Sertoriel\n",
            "<class 'int'>\n",
            "2\n",
            "<class 'bool'>\n",
            "False\n",
            "<class 'float'>\n",
            "2.2\n"
          ]
        }
      ],
      "source": [
        "#Teste repositório colab .py\n",
        "#Vars\n",
        "\n",
        "c = 'Sertoriel'\n",
        "C2 = 1+1\n",
        "C3 = False\n",
        "C4 = 2.2\n",
        "print (type(c))\n",
        "print (c)\n",
        "print (type(C2))\n",
        "print (C2)\n",
        "print (type(C3))\n",
        "print (C3)\n",
        "print (type(C4))\n",
        "print (C4)\n",
        "\n",
        "#If u run this code it will show every type of variable in it and their value.\n"
      ]
    }
  ]
}